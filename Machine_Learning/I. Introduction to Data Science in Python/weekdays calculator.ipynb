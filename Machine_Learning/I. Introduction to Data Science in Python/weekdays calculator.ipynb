{
 "cells": [
  {
   "cell_type": "code",
   "execution_count": 1,
   "metadata": {},
   "outputs": [
    {
     "name": "stdout",
     "output_type": "stream",
     "text": [
      "2018-04-12\n",
      "33\n",
      "6.6\n",
      "safe to learn other stuff than working on Rigorosum\n"
     ]
    }
   ],
   "source": [
    "import numpy as np\n",
    "import datetime as dt\n",
    "\n",
    "now = dt.datetime.now()\n",
    "today = str(now)\n",
    "today = today.split()\n",
    "today = today[0]\n",
    "\n",
    "holidaysMay = 4\n",
    "days = np.busday_count(today, '2018-06-04') - holidaysMay\n",
    "workweeks = days / 5\n",
    "\n",
    "print(today)\n",
    "print(days)\n",
    "print(workweeks)\n",
    "\n",
    "if days > 30:\n",
    "    print(\"safe to learn other stuff than working on Rigorosum\")\n",
    "else:\n",
    "    print(\"stop procarstination and start preparing\")"
   ]
  },
  {
   "cell_type": "code",
   "execution_count": null,
   "metadata": {
    "collapsed": true
   },
   "outputs": [],
   "source": []
  }
 ],
 "metadata": {
  "kernelspec": {
   "display_name": "Python 3 (UM)",
   "language": "python",
   "name": "logging"
  },
  "language_info": {
   "file_extension": ".py",
   "mimetype": "text/x-python",
   "name": "python"
  }
 },
 "nbformat": 4,
 "nbformat_minor": 2
}
